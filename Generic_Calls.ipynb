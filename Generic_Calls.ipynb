{
 "cells": [
  {
   "cell_type": "code",
   "execution_count": 163,
   "id": "2f1334d4",
   "metadata": {},
   "outputs": [],
   "source": [
    "import bs4\n",
    "import datetime as dt\n",
    "import pandas as pd\n",
    "import random \n",
    "import requests\n",
    "from bs4 import BeautifulSoup as bs\n",
    "from tqdm import tqdm "
   ]
  },
  {
   "cell_type": "markdown",
   "id": "08d49e05",
   "metadata": {},
   "source": [
    "## Генерация номеров телефонов"
   ]
  },
  {
   "cell_type": "code",
   "execution_count": 78,
   "id": "d28edc23",
   "metadata": {},
   "outputs": [],
   "source": [
    "def get_data(element: bs4.element.ResultSet, name_for_column: str = None)->pd.DataFrame():\n",
    "    l = []\n",
    "    for value in element:\n",
    "        l.append(value.contents[0])\n",
    "    l.pop(0)\n",
    "    values  = pd.DataFrame(l)\n",
    "    if name_for_column != None:\n",
    "        values = values.rename(columns={0:name_for_column})\n",
    "    return values\n",
    "\n",
    "def get_codec()->pd.DataFrame():\n",
    "    URL_TEMPLATE = \"https://www.ixbt.com/mobile/country_code.html\"\n",
    "    r = requests.get(URL_TEMPLATE)\n",
    "    if r.status_code != 200:\n",
    "        raise Exception(\"Site not working.\")\n",
    "    soup = bs(r.text, \"html.parser\", )\n",
    "    code = soup.find('table', border=1, cellspacing=2, cellpadding=2, width=550, align=\"center\")\n",
    "    names, codes = soup.find_all(\"td\", width=\"128\"), soup.find_all(\"td\", width=\"148\")\n",
    "    names = get_data(names, \"country\")\n",
    "    codes = get_data(codes, \"code\")\n",
    "    \n",
    "    return pd.concat([names, codes], axis=1, sort=False)"
   ]
  },
  {
   "cell_type": "code",
   "execution_count": 79,
   "id": "86a8e9ec",
   "metadata": {},
   "outputs": [],
   "source": [
    "data = get_codec()\n",
    "data[\"check\"] = data.code.str.find(\"-\")    \n",
    "data = data.query(\"check == -1\")    \n",
    "data[\"check\"] = data.code.isnull()\n",
    "data = data.query(\"check == False\")    "
   ]
  },
  {
   "cell_type": "code",
   "execution_count": 227,
   "id": "c578a26c",
   "metadata": {},
   "outputs": [
    {
     "name": "stderr",
     "output_type": "stream",
     "text": [
      "100%|███████████████████████████████████████████████████████████████████████████| 5000/5000 [00:00<00:00, 38324.38it/s]\n"
     ]
    }
   ],
   "source": [
    "numbers = []\n",
    "for i in tqdm(range(5000)):\n",
    "    region_code = random.randint(100, 999)\n",
    "    first_three_digits = random.randint(100, 999)\n",
    "    last_four_digits = random.randint(1000, 9999)\n",
    "    index = random.randint(0, len(data)-1)\n",
    "    index = data.iat[index, 1]\n",
    "    numbers.append(f\"{index} {region_code}-{first_three_digits}-{last_four_digits}\".strip())"
   ]
  },
  {
   "cell_type": "code",
   "execution_count": 228,
   "id": "f0fb3f74",
   "metadata": {},
   "outputs": [],
   "source": [
    "numbers = pd.DataFrame(numbers)"
   ]
  },
  {
   "cell_type": "code",
   "execution_count": 229,
   "id": "100ecead",
   "metadata": {},
   "outputs": [],
   "source": [
    "numbers = numbers.rename(columns={0:\"numbers\"})"
   ]
  },
  {
   "cell_type": "code",
   "execution_count": 230,
   "id": "e001059b",
   "metadata": {},
   "outputs": [],
   "source": [
    "numbers_fraud = numbers.sample(1000).reset_index()"
   ]
  },
  {
   "cell_type": "code",
   "execution_count": 231,
   "id": "bcbb5018",
   "metadata": {},
   "outputs": [],
   "source": [
    "numbers = numbers.sample(len(numbers)).reset_index()"
   ]
  },
  {
   "cell_type": "markdown",
   "id": "dcde105d",
   "metadata": {},
   "source": [
    "## Данные о сессиях"
   ]
  },
  {
   "cell_type": "code",
   "execution_count": 232,
   "id": "c847f35f",
   "metadata": {},
   "outputs": [],
   "source": [
    "date_start = dt.datetime.strptime('01.01.2022', \"%d.%m.%Y\")\n",
    "delta = (dt.datetime.now() - date_start).days"
   ]
  },
  {
   "cell_type": "code",
   "execution_count": 233,
   "id": "d8393bae",
   "metadata": {},
   "outputs": [],
   "source": [
    "date_st = [(date_start + dt.timedelta(days=random.randint(-100, delta))) for i in range(0, len(numbers_fraud))]\n",
    "date_end = [(date_start + dt.timedelta(days=random.randint(-100, delta))) for i in range(0, len(numbers_fraud))]"
   ]
  },
  {
   "cell_type": "code",
   "execution_count": 234,
   "id": "b911197a",
   "metadata": {},
   "outputs": [
    {
     "name": "stderr",
     "output_type": "stream",
     "text": [
      "100%|███████████████████████████████████████████████████████████████████████████| 1000/1000 [00:00<00:00, 47294.40it/s]\n"
     ]
    }
   ],
   "source": [
    "numbers_fraud = pd.concat([numbers_fraud,\n",
    "          pd.DataFrame(date_st, columns=['Date_start']),\n",
    "          pd.DataFrame(date_end, columns=['Date_end'])], axis=1)\n",
    "\n",
    "reset = numbers_fraud.query(\"Date_start > Date_end\")\n",
    "numbers_fraud = numbers_fraud.query(\"Date_start <= Date_end\")\n",
    "\n",
    "reset = reset.rename(columns={'Date_start': 'Date_end', 'Date_end': 'Date_start'})\n",
    "reset = reset[list(numbers_fraud.columns)]\n",
    "\n",
    "numbers_fraud = pd.concat([numbers_fraud,\n",
    "          reset], axis=0)\n",
    "\n",
    "for i in tqdm(numbers_fraud.index):\n",
    "    numbers_fraud.at[i, 'index'] = random.randint(0, 3000)"
   ]
  },
  {
   "cell_type": "code",
   "execution_count": 235,
   "id": "183a4f8a",
   "metadata": {},
   "outputs": [
    {
     "data": {
      "text/html": [
       "<div>\n",
       "<style scoped>\n",
       "    .dataframe tbody tr th:only-of-type {\n",
       "        vertical-align: middle;\n",
       "    }\n",
       "\n",
       "    .dataframe tbody tr th {\n",
       "        vertical-align: top;\n",
       "    }\n",
       "\n",
       "    .dataframe thead th {\n",
       "        text-align: right;\n",
       "    }\n",
       "</style>\n",
       "<table border=\"1\" class=\"dataframe\">\n",
       "  <thead>\n",
       "    <tr style=\"text-align: right;\">\n",
       "      <th></th>\n",
       "      <th>index</th>\n",
       "      <th>numbers</th>\n",
       "      <th>Date_start</th>\n",
       "      <th>Date_end</th>\n",
       "    </tr>\n",
       "  </thead>\n",
       "  <tbody>\n",
       "  </tbody>\n",
       "</table>\n",
       "</div>"
      ],
      "text/plain": [
       "Empty DataFrame\n",
       "Columns: [index, numbers, Date_start, Date_end]\n",
       "Index: []"
      ]
     },
     "execution_count": 235,
     "metadata": {},
     "output_type": "execute_result"
    }
   ],
   "source": [
    "numbers_fraud.query(\"Date_start > Date_end\")"
   ]
  },
  {
   "cell_type": "code",
   "execution_count": 236,
   "id": "522a0c29",
   "metadata": {},
   "outputs": [],
   "source": [
    "date_st = [(date_start + dt.timedelta(days=random.randint(-100, delta))) for i in range(0, len(numbers))]\n",
    "date_end = [(date_start + dt.timedelta(days=random.randint(-100, delta))) for i in range(0, len(numbers))]"
   ]
  },
  {
   "cell_type": "code",
   "execution_count": 237,
   "id": "a0eac014",
   "metadata": {},
   "outputs": [
    {
     "name": "stderr",
     "output_type": "stream",
     "text": [
      "100%|███████████████████████████████████████████████████████████████████████████| 5000/5000 [00:00<00:00, 76152.90it/s]\n"
     ]
    }
   ],
   "source": [
    "numbers = pd.concat([numbers,\n",
    "          pd.DataFrame(date_st, columns=['Date_start']),\n",
    "          pd.DataFrame(date_end, columns=['Date_end'])], axis=1)\n",
    "\n",
    "reset = numbers.query(\"Date_start > Date_end\")\n",
    "numbers = numbers.query(\"Date_start <= Date_end\")\n",
    "\n",
    "reset = reset.rename(columns={'Date_start': 'Date_end', 'Date_end': 'Date_start'})\n",
    "reset = reset[list(numbers.columns)]\n",
    "\n",
    "numbers = pd.concat([numbers,\n",
    "          reset], axis=0)\n",
    "\n",
    "for i in tqdm(numbers.index):\n",
    "    numbers.at[i, 'index'] = random.randint(0, 3000)"
   ]
  },
  {
   "cell_type": "code",
   "execution_count": 238,
   "id": "578d0bf4",
   "metadata": {},
   "outputs": [
    {
     "data": {
      "text/html": [
       "<div>\n",
       "<style scoped>\n",
       "    .dataframe tbody tr th:only-of-type {\n",
       "        vertical-align: middle;\n",
       "    }\n",
       "\n",
       "    .dataframe tbody tr th {\n",
       "        vertical-align: top;\n",
       "    }\n",
       "\n",
       "    .dataframe thead th {\n",
       "        text-align: right;\n",
       "    }\n",
       "</style>\n",
       "<table border=\"1\" class=\"dataframe\">\n",
       "  <thead>\n",
       "    <tr style=\"text-align: right;\">\n",
       "      <th></th>\n",
       "      <th>index</th>\n",
       "      <th>numbers</th>\n",
       "      <th>Date_start</th>\n",
       "      <th>Date_end</th>\n",
       "    </tr>\n",
       "  </thead>\n",
       "  <tbody>\n",
       "  </tbody>\n",
       "</table>\n",
       "</div>"
      ],
      "text/plain": [
       "Empty DataFrame\n",
       "Columns: [index, numbers, Date_start, Date_end]\n",
       "Index: []"
      ]
     },
     "execution_count": 238,
     "metadata": {},
     "output_type": "execute_result"
    }
   ],
   "source": [
    "numbers.query(\"Date_start > Date_end\")"
   ]
  },
  {
   "cell_type": "code",
   "execution_count": 239,
   "id": "227e2166",
   "metadata": {},
   "outputs": [
    {
     "data": {
      "text/html": [
       "<div>\n",
       "<style scoped>\n",
       "    .dataframe tbody tr th:only-of-type {\n",
       "        vertical-align: middle;\n",
       "    }\n",
       "\n",
       "    .dataframe tbody tr th {\n",
       "        vertical-align: top;\n",
       "    }\n",
       "\n",
       "    .dataframe thead th {\n",
       "        text-align: right;\n",
       "    }\n",
       "</style>\n",
       "<table border=\"1\" class=\"dataframe\">\n",
       "  <thead>\n",
       "    <tr style=\"text-align: right;\">\n",
       "      <th></th>\n",
       "      <th>index</th>\n",
       "      <th>numbers</th>\n",
       "      <th>Date_start</th>\n",
       "      <th>Date_end</th>\n",
       "    </tr>\n",
       "  </thead>\n",
       "  <tbody>\n",
       "    <tr>\n",
       "      <th>0</th>\n",
       "      <td>328</td>\n",
       "      <td>+63  405-978-4153</td>\n",
       "      <td>2021-10-17</td>\n",
       "      <td>2023-01-24</td>\n",
       "    </tr>\n",
       "    <tr>\n",
       "      <th>1</th>\n",
       "      <td>1992</td>\n",
       "      <td>+221  554-814-7187</td>\n",
       "      <td>2022-02-16</td>\n",
       "      <td>2023-03-24</td>\n",
       "    </tr>\n",
       "    <tr>\n",
       "      <th>2</th>\n",
       "      <td>1772</td>\n",
       "      <td>+30  184-676-7886</td>\n",
       "      <td>2022-12-31</td>\n",
       "      <td>2023-01-19</td>\n",
       "    </tr>\n",
       "    <tr>\n",
       "      <th>4</th>\n",
       "      <td>1772</td>\n",
       "      <td>+594  795-609-1527</td>\n",
       "      <td>2022-09-07</td>\n",
       "      <td>2023-06-16</td>\n",
       "    </tr>\n",
       "    <tr>\n",
       "      <th>5</th>\n",
       "      <td>172</td>\n",
       "      <td>+670  303-668-9342</td>\n",
       "      <td>2021-10-25</td>\n",
       "      <td>2022-01-28</td>\n",
       "    </tr>\n",
       "    <tr>\n",
       "      <th>...</th>\n",
       "      <td>...</td>\n",
       "      <td>...</td>\n",
       "      <td>...</td>\n",
       "      <td>...</td>\n",
       "    </tr>\n",
       "    <tr>\n",
       "      <th>993</th>\n",
       "      <td>1552</td>\n",
       "      <td>+351  925-159-9482</td>\n",
       "      <td>2023-05-15</td>\n",
       "      <td>2023-06-10</td>\n",
       "    </tr>\n",
       "    <tr>\n",
       "      <th>995</th>\n",
       "      <td>2312</td>\n",
       "      <td>+688  659-261-7045</td>\n",
       "      <td>2022-12-07</td>\n",
       "      <td>2022-12-18</td>\n",
       "    </tr>\n",
       "    <tr>\n",
       "      <th>996</th>\n",
       "      <td>659</td>\n",
       "      <td>+266  847-121-3481</td>\n",
       "      <td>2022-01-22</td>\n",
       "      <td>2022-06-30</td>\n",
       "    </tr>\n",
       "    <tr>\n",
       "      <th>997</th>\n",
       "      <td>2381</td>\n",
       "      <td>+358  460-413-4332</td>\n",
       "      <td>2022-10-11</td>\n",
       "      <td>2023-05-21</td>\n",
       "    </tr>\n",
       "    <tr>\n",
       "      <th>998</th>\n",
       "      <td>1692</td>\n",
       "      <td>+247  617-995-2555</td>\n",
       "      <td>2022-02-25</td>\n",
       "      <td>2022-09-02</td>\n",
       "    </tr>\n",
       "  </tbody>\n",
       "</table>\n",
       "<p>1000 rows × 4 columns</p>\n",
       "</div>"
      ],
      "text/plain": [
       "     index             numbers Date_start   Date_end\n",
       "0      328   +63  405-978-4153 2021-10-17 2023-01-24\n",
       "1     1992  +221  554-814-7187 2022-02-16 2023-03-24\n",
       "2     1772   +30  184-676-7886 2022-12-31 2023-01-19\n",
       "4     1772  +594  795-609-1527 2022-09-07 2023-06-16\n",
       "5      172  +670  303-668-9342 2021-10-25 2022-01-28\n",
       "..     ...                 ...        ...        ...\n",
       "993   1552  +351  925-159-9482 2023-05-15 2023-06-10\n",
       "995   2312  +688  659-261-7045 2022-12-07 2022-12-18\n",
       "996    659  +266  847-121-3481 2022-01-22 2022-06-30\n",
       "997   2381  +358  460-413-4332 2022-10-11 2023-05-21\n",
       "998   1692  +247  617-995-2555 2022-02-25 2022-09-02\n",
       "\n",
       "[1000 rows x 4 columns]"
      ]
     },
     "execution_count": 239,
     "metadata": {},
     "output_type": "execute_result"
    }
   ],
   "source": [
    "numbers_fraud"
   ]
  },
  {
   "cell_type": "code",
   "execution_count": 240,
   "id": "575444cc",
   "metadata": {},
   "outputs": [
    {
     "data": {
      "text/html": [
       "<div>\n",
       "<style scoped>\n",
       "    .dataframe tbody tr th:only-of-type {\n",
       "        vertical-align: middle;\n",
       "    }\n",
       "\n",
       "    .dataframe tbody tr th {\n",
       "        vertical-align: top;\n",
       "    }\n",
       "\n",
       "    .dataframe thead th {\n",
       "        text-align: right;\n",
       "    }\n",
       "</style>\n",
       "<table border=\"1\" class=\"dataframe\">\n",
       "  <thead>\n",
       "    <tr style=\"text-align: right;\">\n",
       "      <th></th>\n",
       "      <th>index</th>\n",
       "      <th>numbers</th>\n",
       "      <th>Date_start</th>\n",
       "      <th>Date_end</th>\n",
       "    </tr>\n",
       "  </thead>\n",
       "  <tbody>\n",
       "    <tr>\n",
       "      <th>4</th>\n",
       "      <td>574</td>\n",
       "      <td>+257  452-368-6590</td>\n",
       "      <td>2022-02-19</td>\n",
       "      <td>2022-08-28</td>\n",
       "    </tr>\n",
       "    <tr>\n",
       "      <th>6</th>\n",
       "      <td>1867</td>\n",
       "      <td>+593  805-142-5345</td>\n",
       "      <td>2022-05-26</td>\n",
       "      <td>2023-06-03</td>\n",
       "    </tr>\n",
       "    <tr>\n",
       "      <th>8</th>\n",
       "      <td>1724</td>\n",
       "      <td>+387  237-958-6655</td>\n",
       "      <td>2022-10-05</td>\n",
       "      <td>2023-05-07</td>\n",
       "    </tr>\n",
       "    <tr>\n",
       "      <th>11</th>\n",
       "      <td>1026</td>\n",
       "      <td>+967  413-658-2278</td>\n",
       "      <td>2022-06-06</td>\n",
       "      <td>2022-12-22</td>\n",
       "    </tr>\n",
       "    <tr>\n",
       "      <th>12</th>\n",
       "      <td>721</td>\n",
       "      <td>+44  179-209-3473</td>\n",
       "      <td>2022-06-21</td>\n",
       "      <td>2022-12-22</td>\n",
       "    </tr>\n",
       "    <tr>\n",
       "      <th>...</th>\n",
       "      <td>...</td>\n",
       "      <td>...</td>\n",
       "      <td>...</td>\n",
       "      <td>...</td>\n",
       "    </tr>\n",
       "    <tr>\n",
       "      <th>4986</th>\n",
       "      <td>462</td>\n",
       "      <td>+374  756-919-1155</td>\n",
       "      <td>2021-10-21</td>\n",
       "      <td>2023-05-22</td>\n",
       "    </tr>\n",
       "    <tr>\n",
       "      <th>4988</th>\n",
       "      <td>2641</td>\n",
       "      <td>+212  606-384-7220</td>\n",
       "      <td>2022-08-27</td>\n",
       "      <td>2022-10-06</td>\n",
       "    </tr>\n",
       "    <tr>\n",
       "      <th>4991</th>\n",
       "      <td>2991</td>\n",
       "      <td>+82  883-850-8956</td>\n",
       "      <td>2022-07-12</td>\n",
       "      <td>2023-03-01</td>\n",
       "    </tr>\n",
       "    <tr>\n",
       "      <th>4995</th>\n",
       "      <td>1217</td>\n",
       "      <td>+672  737-719-7539</td>\n",
       "      <td>2022-08-14</td>\n",
       "      <td>2023-05-31</td>\n",
       "    </tr>\n",
       "    <tr>\n",
       "      <th>4997</th>\n",
       "      <td>2230</td>\n",
       "      <td>+504  721-603-1754</td>\n",
       "      <td>2021-12-19</td>\n",
       "      <td>2022-03-08</td>\n",
       "    </tr>\n",
       "  </tbody>\n",
       "</table>\n",
       "<p>5000 rows × 4 columns</p>\n",
       "</div>"
      ],
      "text/plain": [
       "      index             numbers Date_start   Date_end\n",
       "4       574  +257  452-368-6590 2022-02-19 2022-08-28\n",
       "6      1867  +593  805-142-5345 2022-05-26 2023-06-03\n",
       "8      1724  +387  237-958-6655 2022-10-05 2023-05-07\n",
       "11     1026  +967  413-658-2278 2022-06-06 2022-12-22\n",
       "12      721   +44  179-209-3473 2022-06-21 2022-12-22\n",
       "...     ...                 ...        ...        ...\n",
       "4986    462  +374  756-919-1155 2021-10-21 2023-05-22\n",
       "4988   2641  +212  606-384-7220 2022-08-27 2022-10-06\n",
       "4991   2991   +82  883-850-8956 2022-07-12 2023-03-01\n",
       "4995   1217  +672  737-719-7539 2022-08-14 2023-05-31\n",
       "4997   2230  +504  721-603-1754 2021-12-19 2022-03-08\n",
       "\n",
       "[5000 rows x 4 columns]"
      ]
     },
     "execution_count": 240,
     "metadata": {},
     "output_type": "execute_result"
    }
   ],
   "source": [
    "numbers"
   ]
  },
  {
   "cell_type": "code",
   "execution_count": 241,
   "id": "65d753e0",
   "metadata": {},
   "outputs": [],
   "source": [
    "numbers.to_excel('./Сессии.xlsx', index=False)\n",
    "numbers_fraud.to_excel('./Мошенники.xlsx', index=False)"
   ]
  }
 ],
 "metadata": {
  "kernelspec": {
   "display_name": "Python 3 (ipykernel)",
   "language": "python",
   "name": "python3"
  },
  "language_info": {
   "codemirror_mode": {
    "name": "ipython",
    "version": 3
   },
   "file_extension": ".py",
   "mimetype": "text/x-python",
   "name": "python",
   "nbconvert_exporter": "python",
   "pygments_lexer": "ipython3",
   "version": "3.9.12"
  }
 },
 "nbformat": 4,
 "nbformat_minor": 5
}
